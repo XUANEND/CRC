{
 "cells": [
  {
   "cell_type": "code",
   "execution_count": 67,
   "id": "c116f668-1488-4b00-85bf-e2f1fa374155",
   "metadata": {},
   "outputs": [],
   "source": [
    "import numpy as np\n",
    "import pandas as pd\n",
    "import time\n",
    "#import os\n",
    "#import re\n",
    "\n",
    "path = \"D:\\\\Documents\\\\data\\\\TCGA\\\\COAD+READ\\\\\""
   ]
  },
  {
   "cell_type": "code",
   "execution_count": 14,
   "id": "40f7f87f-9df2-45a9-a0ec-51d80e953b95",
   "metadata": {},
   "outputs": [],
   "source": [
    "samples = pd.read_csv(path+\"gdc_sample_sheet.2021-11-12.tsv\",sep = \"\\t\")"
   ]
  },
  {
   "cell_type": "code",
   "execution_count": 34,
   "id": "9df75f8d-4c19-45c9-be8e-66d93e0f23c8",
   "metadata": {},
   "outputs": [],
   "source": [
    "samples = samples[[\"File ID\",\"File Name\",\"Case ID\",\"Sample ID\",\"Sample Type\"]]\n",
    "Files = samples[\"File ID\"]+\"\\\\\"+samples[\"File Name\"]\n",
    "Cases = samples[\"Case ID\"]"
   ]
  },
  {
   "cell_type": "code",
   "execution_count": 68,
   "id": "95755c9e-b30d-4e3b-8c49-dc13e1086065",
   "metadata": {},
   "outputs": [
    {
     "name": "stderr",
     "output_type": "stream",
     "text": [
      "C:\\Users\\Lenovo\\AppData\\Local\\Temp/ipykernel_9184/2329375693.py:8: FutureWarning: Passing 'suffixes' which cause duplicate columns {'TCGA-A6-5659_x'} in the result is deprecated and will raise a MergeError in a future version.\n",
      "  FPKM = pd.merge(FPKM, new_FPKM, on = \"gene\", how = \"outer\")\n",
      "C:\\Users\\Lenovo\\AppData\\Local\\Temp/ipykernel_9184/2329375693.py:8: FutureWarning: Passing 'suffixes' which cause duplicate columns {'TCGA-A6-2684_x'} in the result is deprecated and will raise a MergeError in a future version.\n",
      "  FPKM = pd.merge(FPKM, new_FPKM, on = \"gene\", how = \"outer\")\n"
     ]
    },
    {
     "name": "stdout",
     "output_type": "stream",
     "text": [
      "143.20772075653076\n"
     ]
    }
   ],
   "source": [
    "t0 =time.time()\n",
    "FPKM = pd.DataFrame()\n",
    "for num in range(len(Files)):\n",
    "    if FPKM.empty:\n",
    "        FPKM = pd.read_csv(path+Files[num], sep = \"\\t\", header = None, names = [\"gene\",Cases[num]])\n",
    "    else:\n",
    "        new_FPKM = pd.read_csv(path+Files[num], sep = \"\\t\", header = None, names = [\"gene\",Cases[num]])\n",
    "        FPKM = pd.merge(FPKM, new_FPKM, on = \"gene\", how = \"outer\")\n",
    "print(time.time()-t0)"
   ]
  },
  {
   "cell_type": "code",
   "execution_count": 76,
   "id": "ab43a4a7-907b-43b5-b638-c0d497f857dd",
   "metadata": {},
   "outputs": [],
   "source": [
    "FPKM.to_csv(path+\"FPKM.txt\",sep = \"\\t\", index = 0)"
   ]
  }
 ],
 "metadata": {
  "kernelspec": {
   "display_name": "Python 3 (ipykernel)",
   "language": "python",
   "name": "python3"
  },
  "language_info": {
   "codemirror_mode": {
    "name": "ipython",
    "version": 3
   },
   "file_extension": ".py",
   "mimetype": "text/x-python",
   "name": "python",
   "nbconvert_exporter": "python",
   "pygments_lexer": "ipython3",
   "version": "3.8.12"
  }
 },
 "nbformat": 4,
 "nbformat_minor": 5
}
