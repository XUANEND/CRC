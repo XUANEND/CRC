{
 "cells": [
  {
   "cell_type": "code",
   "execution_count": null,
   "id": "c116f668-1488-4b00-85bf-e2f1fa374155",
   "metadata": {},
   "outputs": [],
   "source": [
    "%%time\n",
    "import numpy as np\n",
    "import pandas as pd\n",
    "import time\n",
    "#import os\n",
    "#import re\n",
    "\n",
    "path = \"D:\\\\Documents\\\\data\\\\TCGA\\\\COAD+READ\\\\\"\n",
    "samples = pd.read_csv(path+\"gdc_sample_sheet.2021-11-12.tsv\",sep = \"\\t\")\n",
    "samples = samples[[\"File ID\",\"File Name\",\"Case ID\",\"Sample ID\",\"Sample Type\"]]\n",
    "Files = samples[\"File ID\"]+\"\\\\\"+samples[\"File Name\"]\n",
    "Cases = samples[\"Case ID\"]\n",
    "FPKM = pd.DataFrame()\n",
    "for num in range(len(Files)):\n",
    "    if FPKM.empty:\n",
    "        FPKM = pd.read_csv(path+Files[num], sep = \"\\t\", header = None, names = [\"gene\",Cases[num]])\n",
    "    else:\n",
    "        new_FPKM = pd.read_csv(path+Files[num], sep = \"\\t\", header = None, names = [\"gene\",Cases[num]])\n",
    "        FPKM = pd.merge(FPKM, new_FPKM, on = \"gene\", how = \"outer\")\n",
    "FPKM.to_csv(path+\"FPKM.txt\",sep = \"\\t\", index = 0)"
   ]
  }
 ],
 "metadata": {
  "kernelspec": {
   "display_name": "Python 3 (ipykernel)",
   "language": "python",
   "name": "python3"
  },
  "language_info": {
   "codemirror_mode": {
    "name": "ipython",
    "version": 3
   },
   "file_extension": ".py",
   "mimetype": "text/x-python",
   "name": "python",
   "nbconvert_exporter": "python",
   "pygments_lexer": "ipython3",
   "version": "3.8.12"
  }
 },
 "nbformat": 4,
 "nbformat_minor": 5
}
